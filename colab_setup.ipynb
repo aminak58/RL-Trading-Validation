{
 "cells": [
  {
   "cell_type": "markdown",
   "metadata": {},
   "source": [
    "# 🚀 Freqtrade RL Trading Strategy - Colab Setup\n",
    "\n",
    "این نوت‌بوک برای راه‌اندازی کامل استراتژی RL در Google Colab طراحی شده است.\n",
    "\n",
    "## 📋 مراحل:\n",
    "1. کلون ریپازیتوری\n",
    "2. نصب وابستگی‌ها\n",
    "3. تست محیط\n",
    "4. آموزش RL\n",
    "5. اجرای بک‌تست"
   ]
  },
  {
   "cell_type": "markdown",
   "metadata": {},
   "source": [
    "## 🔧 مرحله ۱: کلون ریپازیتوری و آماده‌سازی"
   ]
  },
  {
   "cell_type": "code",
   "execution_count": null,
   "metadata": {},
   "outputs": [],
   "source": [
    "# کلون ریپازیتوری\n",
    "!git clone https://github.com/yourusername/RL-Trading-Validation.git\n",
    "\n",
    "# رفتن به مسیر پروژه\n",
    "%cd RL-Trading-Validation\n",
    "\n",
    "# بررسی فایل‌ها\n",
    "!ls -la\n",
    "!echo \"\\n=== محتویات user_data ===\"\n",
    "!ls -la user_data/\n",
    "!echo \"\\n=== داده‌های معاملاتی ===\"\n",
    "!ls -la user_data/data/binance/"
   ]
  },
  {
   "cell_type": "markdown",
   "metadata": {},
   "source": [
    "## 📦 مرحله ۲: نصب وابستگی‌ها (نسخه‌های سازگار)"
   ]
  },
  {
   "cell_type": "code",
   "execution_count": null,
   "metadata": {},
   "outputs": [],
   "source": [
    "# نصب Freqtrade و وابستگی‌ها\n",
    "!pip install freqtrade\n",
    "\n",
    "# نصب نسخه‌های سازگار برای حل مشکل API\n",
    "!pip install torch==2.0.0 torchvision==0.15.0\n",
    "!pip install stable-baselines3==2.2.0\n",
    "!pip install gymnasium==0.28.0\n",
    "!pip install numpy==1.26.0 pandas==2.0.3\n",
    "!pip install scikit-learn==1.3.0\n",
    "!pip install datasieve==0.1.9\n",
    "!pip install matplotlib seaborn plotly jupyter\n",
    "\n",
    "print(\"✅ تمام وابستگی‌ها با نسخه‌های سازگار نصب شدند!\")"
   ]
  },
  {
   "cell_type": "markdown",
   "metadata": {},
   "source": [
    "## 🧪 مرحله ۳: تست محیط و بررسی نسخه‌ها"
   ]
  },
  {
   "cell_type": "code",
   "execution_count": null,
   "metadata": {},
   "outputs": [],
   "source": [
    "import sys\n",
    "import torch\n",
    "import stable_baselines3 as sb3\n",
    "import gymnasium\n",
    "import numpy as np\n",
    "import pandas as pd\n",
    "import freqtrade\n",
    "\n",
    "print(\"📋 نسخه‌های نصب شده:\")\n",
    "print(f\"Python: {sys.version}\")\n",
    "print(f\"PyTorch: {torch.__version__}\")\n",
    "print(f\"Stable-Baselines3: {sb3.__version__}\")\n",
    "print(f\"Gymnasium: {gymnasium.__version__}\")\n",
    "print(f\"NumPy: {np.__version__}\")\n",
    "print(f\"Pandas: {pd.__version__}\")\n",
    "print(f\"Freqtrade: {freqtrade.__version__}\")\n",
    "\n",
    "# تست API compatibility\n",
    "print(\"\\n🧪 تست سازگاری API...\")\n",
    "try:\n",
    "    from stable_baselines3 import PPO\n",
    "    from gymnasium import spaces\n",
    "    \n",
    "    # تست predict function\n",
    "    class TestEnv:\n",
    "        def __init__(self):\n",
    "            self.action_space = spaces.Discrete(5)\n",
    "            self.observation_space = spaces.Box(low=-1, high=1, shape=(10,))\n",
    "\n",
    "        def reset(self):\n",
    "            return np.array([0.0] * 10), {}\n",
    "\n",
    "        def step(self, action):\n",
    "            return np.array([0.0] * 10), 0.0, False, False, {}\n",
    "    \n",
    "    test_env = TestEnv()\n",
    "    test_model = PPO(\"MlpPolicy\", test_env, verbose=0)\n",
    "    test_obs = np.array([0.0] * 10)\n",
    "    test_action, _ = test_model.predict(test_obs, deterministic=True)\n",
    "    \n",
    "    print(f\"✅ تست API موفق بود! Action: {test_action}\")\n",
    "    print(\"🎉 هیچ مشکل API وجود ندارد!\")\n",
    "    \n",
    "except Exception as e:\n",
    "    print(f\"❌ مشکل API: {e}\")\n",
    "    print(\"⚠️ نیاز به بررسی وابستگی‌ها دارید\")"
   ]
  },
  {
   "cell_type": "markdown",
   "metadata": {},
   "source": [
    "## 📊 مرحله ۴: بررسی داده‌های معاملاتی"
   ]
  },
  {
   "cell_type": "code",
   "execution_count": null,
   "metadata": {},
   "outputs": [],
   "source": [
    "import os\n",
    "import json\n",
    "import pandas as pd\n",
    "\n",
    "# بررسی داده‌ها\n",
    "data_dir = \"user_data/data/binance\"\n",
    "pairs = [\"BTC_USDT_USDT-5m-futures\", \"ETH_USDT_USDT-5m-futures\", \n",
    "         \"SOL_USDT_USDT-5m-futures\", \"DOGE_USDT_USDT-5m-futures\"]\n",
    "\n",
    "print(\"📊 بررسی داده‌های معاملاتی:\")\n",
    "total_data_points = 0\n",
    "\n",
    "for pair in pairs:\n",
    "    file_path = os.path.join(data_dir, f\"{pair}.json\")\n",
    "    if os.path.exists(file_path):\n",
    "        # بررسی حجم فایل\n",
    "        file_size = os.path.getsize(file_path) / (1024*1024)  # MB\n",
    "        \n",
    "        # خواندن نمونه داده\n",
    "        try:\n",
    "            with open(file_path, 'r') as f:\n",
    "                sample_data = json.load(f)\n",
    "                \n",
    "            print(f\"\\n📈 {pair}:\")\n",
    "            print(f\"   حجم: {file_size:.2f} MB\")\n",
    "            print(f\"   تعداد دیتا پوینت‌ها: {len(sample_data):,}\")\n",
    "            \n",
    "            if len(sample_data) > 0:\n",
    "                sample_candle = sample_data[0]\n",
    "                print(f\"   نمونه کندل: {sample_candle}\")\n",
    "            \n",
    "            total_data_points += len(sample_data)\n",
    "            \n",
    "        except Exception as e:\n",
    "            print(f\"   ❌ خطا در خواندن {pair}: {e}\")\n",
    "    else:\n",
    "        print(f\"❌ فایل {pair} یافت نشد\")\n",
    "\n",
    "print(f\"\\n📊 مجموع داده‌ها: {total_data_points:,} دیتا پوینت\")\n",
    "print(f\"📅 تقریباً {total_data_points // (12 * 24)} روز داده\")"
   ]
  },
  {
   "cell_type": "markdown",
   "metadata": {},
   "source": [
    "## 🧠 مرحله ۵: آموزش مدل RL"
   ]
  },
  {
   "cell_type": "code",
   "execution_count": null,
   "metadata": {},
   "outputs": [],
   "source": [
    "# آموزش مدل RL برای یک ماه داده\n",
    "print(\"🧠 شروع آموزش مدل RL...\")\n",
    "print(\"⏰ این فرآیند ممکن است 20-30 دقیقه طول بکشد\")\n",
    "\n",
    "# دستور آموزش\n",
    "train_command = \"\"\"freqtrade backtesting \\\n",
    "    --config user_data/configs/config_rl_hybrid.json \\\n",
    "    --strategy MtfScalper_RL_Hybrid \\\n",
    "    --freqaimodel MtfScalperRLModel \\\n",
    "    --timeframe 5m \\\n",
    "    --timerange 20240101-20240201\n",
    "\"\"\"\n",
    "\n",
    "print(f\"🔧 دستور اجرایی:\\n{train_command}\")\n",
    "print(\"\\n🚀 شروع آموزش...\")\n",
    "\n",
    "!{train_command}"
   ]
  },
  {
   "cell_type": "markdown",
   "metadata": {},
   "source": [
    "## 📈 مرحله ۶: اجرای بک‌تست کامل"
   ]
  },
  {
   "cell_type": "code",
   "execution_count": null,
   "metadata": {},
   "outputs": [],
   "source": [
    "# اجرای بک‌تست برای یک ماه دیگر\n",
    "print(\"📈 اجرای بک‌تست کامل...\")\n",
    "\n",
    "backtest_command = \"\"\"freqtrade backtesting \\\n",
    "    --config user_data/configs/config_rl_hybrid.json \\\n",
    "    --strategy MtfScalper_RL_Hybrid \\\n",
    "    --freqaimodel MtfScalperRLModel \\\n",
    "    --timeframe 5m \\\n",
    "    --timerange 20240301-20240401 \\\n",
    "    --breakdown day\n",
    "\"\"\"\n",
    "\n",
    "print(f\"🔧 دستور اجرایی:\\n{backtest_command}\")\n",
    "print(\"\\n🚀 شروع بک‌تست...\")\n",
    "\n",
    "!{backtest_command}"
   ]
  },
  {
   "cell_type": "markdown",
   "metadata": {},
   "source": [
    "## 📊 مرحله ۷: تحلیل نتایج"
   ]
  },
  {
   "cell_type": "code",
   "execution_count": null,
   "metadata": {},
   "outputs": [],
   "source": [
    "# بررسی نتایج\n",
    "import os\n",
    "import pandas as pd\n",
    "\n",
    "print(\"📊 تحلیل نتایج:\")\n",
    "\n",
    "# بررسی فایل‌های نتایج\n",
    "results_dir = \"user_data/backtest_results\"\n",
    "if os.path.exists(results_dir):\n",
    "    print(f\"📁 نتایج در: {results_dir}\")\n",
    "    !ls -la {results_dir}\n",
    "else:\n",
    "    print(\"❌ پوشه نتایج یافت نشد\")\n",
    "\n",
    "# بررسی مدل‌های آموزش دیده\n",
    "models_dir = \"user_data/models\"\n",
    "if os.path.exists(models_dir):\n",
    "    print(f\"\\n🤖 مدل‌های آموزش دیده در: {models_dir}\")\n",
    "    !ls -la {models_dir}\n",
    "else:\n",
    "    print(\"❌ پوشه مدل‌ها یافت نشد\")\n",
    "\n",
    "print(\"\\n✅ اجرا در کولب با موفقیت انجام شد!\")\n",
    "print(\"🎉 استراتژی RL شما آماده استفاده است!\")"
   ]
  }
 ],
 "metadata": {
  "kernelspec": {
   "display_name": "Python 3",
   "language": "python",
   "name": "python3"
  },
  "language_info": {
   "codemirror_mode": {
    "name": "ipython",
    "version": 3
   },
   "file_extension": ".py",
   "mimetype": "text/x-python",
   "name": "python",
   "nbconvert_exporter": "python",
   "pygments_lexer": "ipython3",
   "version": "3.8.5"
  }
 },
 "nbformat": 4,
 "nbformat_minor": 4
}