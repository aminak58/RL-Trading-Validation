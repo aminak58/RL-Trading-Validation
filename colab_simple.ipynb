{
 "cells": [
  {
   "cell_type": "markdown",
   "metadata": {},
   "source": [
    "# 🚀 Freqtrade RL Trading - Simple Colab Setup\n",
    "\n",
    "این نوت‌بوک راه حل ساده‌ای برای مشکلات نصب در کولب ارائه می‌دهد.\n",
    "\n",
    "## 📋 مراحل:\n",
    "1. کلون ریپازیتوری\n",
    "2. نصب وابستگی‌ها (با مدیریت خطا)\n",
    "3. تست محیط\n",
    "4. آموزش RL"
   ]
  },
  {
   "cell_type": "code",
   "execution_count": null,
   "metadata": {},
   "outputs": [],
   "source": [
    "# مرحله ۱: کلون ریپازیتوری\n",
    "print(\"🔗 Cloning repository...\")\n",
    "!git clone https://github.com/aminak58/RL-Trading-Validation.git\n",
    "%cd RL-Trading-Validation\n",
    "print(\"✅ Repository cloned successfully!\")"
   ]
  },
  {
   "cell_type": "code",
   "execution_count": null,
   "metadata": {},
   "outputs": [],
   "source": [
    "# مرحله ۲: نصب وابستگی‌ها (روش ساده)\n",
    "print(\"📦 Installing dependencies...\")\n",
    "\n",
    "# نصب Freqtrade و کتابخانه‌های اصلی\n",
    "!pip install freqtrade\n",
    "!pip install pandas numpy scipy scikit-learn\n",
    "\n",
    "# نصب PyTorch (روش پیشنهادی کولب)\n",
    "!pip install torch torchvision torchaudio --index-url https://download.pytorch.org/whl/cu121\n",
    "\n",
    "# نصب کتابخانه‌های RL\n",
    "!pip install stable-baselines3 gymnasium\n",
    "\n",
    "# نصب سایر وابستگی‌ها\n",
    "!pip install datasieve matplotlib seaborn plotly\n",
    "\n",
    "print(\"✅ Dependencies installation completed!\")"
   ]
  },
  {
   "cell_type": "code",
   "execution_count": null,
   "metadata": {},
   "outputs": [],
   "source": [
    "# مرحله ۳: تست محیط\n",
    "print(\"🧪 Testing environment...\")\n",
    "\n",
    "try:\n",
    "    import torch\n",
    "    import stable_baselines3\n",
    "    import gymnasium\n",
    "    import freqtrade\n",
    "    import pandas as pd\n",
    "    import numpy as np\n",
    "    \n",
    "    print(f\"✅ PyTorch: {torch.__version__}\")\n",
    "    print(f\"✅ SB3: {stable_baselines3.__version__}\")\n",
    "    print(f\"✅ Gymnasium: {gymnasium.__version__}\")\n",
    "    print(f\"✅ Freqtrade: {freqtrade.__version__}\")\n",
    "    \n",
    "    # تست GPU\n",
    "    if torch.cuda.is_available():\n",
    "        print(f\"🚀 GPU: {torch.cuda.get_device_name(0)}\")\n",
    "    else:\n",
    "        print(\"💻 Using CPU (enable GPU for faster training)\")\n",
    "    \n",
    "    print(\"🎉 Environment test passed!\")\n",
    "    \n",
    "except ImportError as e:\n",
    "    print(f\"❌ Import error: {e}\")\n",
    "    print(\"⚠️ Some dependencies may not have installed correctly\")"
   ]
  },
  {
   "cell_type": "code",
   "execution_count": null,
   "metadata": {},
   "outputs": [],
   "source": [
    "# مرحله ۴: بررسی داده‌ها\n",
    "print(\"📊 Checking trading data...\")\n",
    "\n",
    "import os\n",
    "\n",
    "data_dir = \"user_data/data/binance\"\n",
    "if os.path.exists(data_dir):\n",
    "    files = os.listdir(data_dir)\n",
    "    print(f\"📁 Found {len(files)} data files:\")\n",
    "    for file in files:\n",
    "        if file.endswith('.json'):\n",
    "            size = os.path.getsize(os.path.join(data_dir, file)) / (1024*1024)\n",
    "            print(f\"   📈 {file}: {size:.2f} MB\")\n",
    "    print(\"✅ Trading data is ready!\")\n",
    "else:\n",
    "    print(\"❌ Trading data not found!\")"
   ]
  },
  {
   "cell_type": "code",
   "execution_count": null,
   "metadata": {},
   "outputs": [],
   "source": [
    "# مرحله ۵: آموزش RL (کوتاه برای تست)\n",
    "print(\"🧠 Starting RL training...\")\n",
    "print(\"⏰ This will take 10-15 minutes for testing...\")\n",
    "\n",
    "# آموزش برای یک دوره کوتاه\n",
    "!freqtrade backtesting \\\n",
    "    --config user_data/configs/config_rl_hybrid.json \\\n",
    "    --strategy MtfScalper_RL_Hybrid \\\n",
    "    --freqaimodel MtfScalperRLModel \\\n",
    "    --timeframe 5m \\\n",
    "    --timerange 20240101-20240107\n",
    "\n",
    "print(\"✅ Training completed!\")"
   ]
  },
  {
   "cell_type": "code",
   "execution_count": null,
   "metadata": {},
   "outputs": [],
   "source": [
    "# مرحله ۶: بررسی نتایج\n",
    "print(\"📈 Checking results...\")\n",
    "\n",
    "if os.path.exists(\"user_data/models\"):\n",
    "    models = os.listdir(\"user_data/models\")\n",
    "    print(f\"🤖 Found models: {models}\")\n",
    "    \n",
    "    # بررسی حجم مدل\n",
    "    for model in models:\n",
    "        model_path = os.path.join(\"user_data/models\", model)\n",
    "        if os.path.isdir(model_path):\n",
    "            size = sum(os.path.getsize(os.path.join(model_path, f)) \n",
    "                      for f in os.listdir(model_path) \n",
    "                      if os.path.isfile(os.path.join(model_path, f))) / (1024*1024)\n",
    "            print(f\"   📊 {model}: {size:.2f} MB\")\n",
    "\n",
    "print(\"🎉 Ready for production training!\")\n",
    "print(\"\\n📝 For full training, use:\")\n",
    "print(\"   --timerange 20240101-20240201\")"
   ]
  },
  {
   "cell_type": "markdown",
   "metadata": {},
   "source": [
    "## 🎯 نکات مهم:\n",
    "\n",
    "1. **GPU را فعال کنید**: Runtime → Change runtime type → GPU\n",
    "2. **اگر خطای نصب occurred**: دستی نصب کنید\n",
    "3. **برای آموزش کامل**: timerange را به 20240101-20240201 تغییر دهید\n",
    "4. **برای بک‌تست**: از timerange متفاوتی استفاده کنید\n",
    "\n",
    "## 🔧 دستورات پیشرفته:\n",
    "```bash\n",
    "# آموزش کامل\n",
    "!freqtrade backtesting --config user_data/configs/config_rl_hybrid.json --strategy MtfScalper_RL_Hybrid --freqaimodel MtfScalperRLModel --timerange 20240101-20240201\n",
    "\n",
    "# بک‌تست\n",
    "!freqtrade backtesting --config user_data/configs/config_rl_hybrid.json --strategy MtfScalper_RL_Hybrid --freqaimodel MtfScalperRLModel --timerange 20240301-20240401\n",
    "```"
   ]
  }
 ],
 "metadata": {
  "kernelspec": {
   "display_name": "Python 3",
   "language": "python",
   "name": "python3"
  },
  "language_info": {
   "codemirror_mode": {
    "name": "ipython",
    "version": 3
   },
   "file_extension": ".py",
   "mimetype": "text/x-python",
   "name": "python",
   "nbconvert_exporter": "python",
   "pygments_lexer": "ipython3",
   "version": "3.8.5"
  }
 },
 "nbformat": 4,
 "nbformat_minor": 4
}